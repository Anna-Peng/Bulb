

{
 "cells": [
  {
   "cell_type": "code",
   "execution_count": 1,
   "metadata": {},
   "outputs": [],
   "source": [
    "import pandas as pd\n",
    "import numpy as np"
   ]
  },
  {
   "cell_type": "markdown",
   "metadata": {},
   "source": [
    "# <font color=green> 1. Examine and pre-process data </font>"
   ]
  },
  {
   "cell_type": "markdown",
   "metadata": {},
   "source": [
    "### The data are cleaned through different stages\n",
    "1. Eliminates duplicated customer_id from Customer_info datasheet\n",
    "2. Eliminates unknown referrers (i.e. without Customer_info), and duplicates (i.e. multiple referrals from the same referrer) from the Referral_info datasheet\n",
    "3. Label referrer = 1, and non-referrer = 0 in Customer_info dataset\n",
    "4. Merge Referral_info with known referrers data from Customer_info"
   ]
  },
  {
   "cell_type": "code",
   "execution_count": 2,
   "metadata": {},
   "outputs": [],
   "source": [
    "df1 = pd.read_csv('180601_Customer_Info.csv')\n",
    "df2 = pd.read_csv('180601_Referrals_Info.csv')"
   ]
  },
  {
   "cell_type": "code",
   "execution_count": 3,
   "metadata": {},
   "outputs": [
    {
     "name": "stdout",
     "output_type": "stream",
     "text": [
      "There are 1698 remaining in Customer Information Dataset\n"
     ]
    },
    {
     "name": "stderr",
     "output_type": "stream",
     "text": [
      "/Users/annapeng/anaconda3/lib/python3.7/site-packages/pandas/core/indexing.py:205: SettingWithCopyWarning: \n",
      "A value is trying to be set on a copy of a slice from a DataFrame\n",
      "\n",
      "See the caveats in the documentation: http://pandas.pydata.org/pandas-docs/stable/user_guide/indexing.html#returning-a-view-versus-a-copy\n",
      "  self._setitem_with_indexer(indexer, value)\n"
     ]
    },
    {
     "data": {
      "text/html": [
       "<div>\n",
       "<style scoped>\n",
       "    .dataframe tbody tr th:only-of-type {\n",
       "        vertical-align: middle;\n",
       "    }\n",
       "\n",
       "    .dataframe tbody tr th {\n",
       "        vertical-align: top;\n",
       "    }\n",
       "\n",
       "    .dataframe thead th {\n",
       "        text-align: right;\n",
       "    }\n",
       "</style>\n",
       "<table border=\"1\" class=\"dataframe\">\n",
       "  <thead>\n",
       "    <tr style=\"text-align: right;\">\n",
       "      <th></th>\n",
       "      <th>sign_up_date</th>\n",
       "      <th>sign_up_channel</th>\n",
       "      <th>Referrer</th>\n",
       "    </tr>\n",
       "    <tr>\n",
       "      <th>customer_id</th>\n",
       "      <th></th>\n",
       "      <th></th>\n",
       "      <th></th>\n",
       "    </tr>\n",
       "  </thead>\n",
       "  <tbody>\n",
       "    <tr>\n",
       "      <td>2543</td>\n",
       "      <td>2021-04-26</td>\n",
       "      <td>Price Comparison Website</td>\n",
       "      <td>0</td>\n",
       "    </tr>\n",
       "    <tr>\n",
       "      <td>2181</td>\n",
       "      <td>2021-07-24</td>\n",
       "      <td>Referral</td>\n",
       "      <td>0</td>\n",
       "    </tr>\n",
       "    <tr>\n",
       "      <td>2399</td>\n",
       "      <td>2020-10-11</td>\n",
       "      <td>Bulb Website</td>\n",
       "      <td>0</td>\n",
       "    </tr>\n",
       "    <tr>\n",
       "      <td>674</td>\n",
       "      <td>2021-04-04</td>\n",
       "      <td>Referral</td>\n",
       "      <td>1</td>\n",
       "    </tr>\n",
       "  </tbody>\n",
       "</table>\n",
       "</div>"
      ],
      "text/plain": [
       "            sign_up_date           sign_up_channel  Referrer\n",
       "customer_id                                                 \n",
       "2543          2021-04-26  Price Comparison Website         0\n",
       "2181          2021-07-24                  Referral         0\n",
       "2399          2020-10-11              Bulb Website         0\n",
       "674           2021-04-04                  Referral         1"
      ]
     },
     "execution_count": 3,
     "metadata": {},
     "output_type": "execute_result"
    }
   ],
   "source": [
    "CustomerInfo = df1.drop_duplicates('customer_id') # Drop duplicated customer_id\n",
    "ref_to_cus_idx = df2.referrer_customer_id.isin(df1.customer_id) # extract idx for referrers's customer_id\n",
    "RefFirstInfo = df2[ref_to_cus_idx].drop_duplicates('referrer_customer_id') # Drop referral duplicates \n",
    "CustomerInfo = CustomerInfo.set_index('customer_id')\n",
    "CustomerInfo['Referrer'] = 0 *len(CustomerInfo) # Initiate 'referrer' column as 'not a referrer' = 0 \n",
    "CustomerInfo.Referrer.loc[RefFirstInfo.referrer_customer_id] = 1 # label  'referrer' = 1\n",
    "\n",
    "print(\"There are {0} remaining in Customer Information Dataset\".format(len(CustomerInfo)) )\n",
    "CustomerInfo.head(4) "
   ]
  },
  {
   "cell_type": "markdown",
   "metadata": {},
   "source": [
    "### Trim datasets so that both customer_id and referrer_id match, and create a merged dataset containing all referrer's customer information and referral information"
   ]
  },
  {
   "cell_type": "code",
   "execution_count": 4,
   "metadata": {},
   "outputs": [
    {
     "name": "stdout",
     "output_type": "stream",
     "text": [
      "There are 701 remaining in Referral Information Dataset\n"
     ]
    },
    {
     "data": {
      "text/html": [
       "<div>\n",
       "<style scoped>\n",
       "    .dataframe tbody tr th:only-of-type {\n",
       "        vertical-align: middle;\n",
       "    }\n",
       "\n",
       "    .dataframe tbody tr th {\n",
       "        vertical-align: top;\n",
       "    }\n",
       "\n",
       "    .dataframe thead th {\n",
       "        text-align: right;\n",
       "    }\n",
       "</style>\n",
       "<table border=\"1\" class=\"dataframe\">\n",
       "  <thead>\n",
       "    <tr style=\"text-align: right;\">\n",
       "      <th></th>\n",
       "      <th>sign_up_date</th>\n",
       "      <th>sign_up_channel</th>\n",
       "      <th>Referrer</th>\n",
       "      <th>referral_date</th>\n",
       "      <th>sign_up_customer_id</th>\n",
       "    </tr>\n",
       "  </thead>\n",
       "  <tbody>\n",
       "    <tr>\n",
       "      <td>795</td>\n",
       "      <td>2021-03-03</td>\n",
       "      <td>Price Comparison Website</td>\n",
       "      <td>1</td>\n",
       "      <td>2021-07-18</td>\n",
       "      <td>1771</td>\n",
       "    </tr>\n",
       "    <tr>\n",
       "      <td>577</td>\n",
       "      <td>2021-03-28</td>\n",
       "      <td>Price Comparison Website</td>\n",
       "      <td>1</td>\n",
       "      <td>2021-04-12</td>\n",
       "      <td>1510</td>\n",
       "    </tr>\n",
       "    <tr>\n",
       "      <td>868</td>\n",
       "      <td>2021-03-07</td>\n",
       "      <td>Bulb Website</td>\n",
       "      <td>1</td>\n",
       "      <td>2021-07-07</td>\n",
       "      <td>1858</td>\n",
       "    </tr>\n",
       "    <tr>\n",
       "      <td>801</td>\n",
       "      <td>2021-04-30</td>\n",
       "      <td>Referral</td>\n",
       "      <td>1</td>\n",
       "      <td>2021-10-25</td>\n",
       "      <td>1778</td>\n",
       "    </tr>\n",
       "  </tbody>\n",
       "</table>\n",
       "</div>"
      ],
      "text/plain": [
       "    sign_up_date           sign_up_channel  Referrer referral_date  \\\n",
       "795   2021-03-03  Price Comparison Website         1    2021-07-18   \n",
       "577   2021-03-28  Price Comparison Website         1    2021-04-12   \n",
       "868   2021-03-07              Bulb Website         1    2021-07-07   \n",
       "801   2021-04-30                  Referral         1    2021-10-25   \n",
       "\n",
       "     sign_up_customer_id  \n",
       "795                 1771  \n",
       "577                 1510  \n",
       "868                 1858  \n",
       "801                 1778  "
      ]
     },
     "execution_count": 4,
     "metadata": {},
     "output_type": "execute_result"
    }
   ],
   "source": [
    "Customer_referrer_Info = CustomerInfo.loc[RefFirstInfo.referrer_customer_id]\n",
    "RefFirstInfo = RefFirstInfo.set_index('referrer_customer_id')\n",
    "mergedRefInfo = Customer_referrer_Info.merge(RefFirstInfo, left_index = True, right_index = True)\n",
    "print(\"There are {0} remaining in Referral Information Dataset\".format(len(mergedRefInfo)) )\n",
    "mergedRefInfo.head(4)"
   ]
  },
  {
   "cell_type": "markdown",
   "metadata": {},
   "source": [
    "# <font color=green> 2.   Q1: When do members refer? </font>\n",
    "\n",
    "## Use Bayesian Credible Interval for Probability of First Referral | Mean Membership-in-Days"
   ]
  },
  {
   "cell_type": "code",
   "execution_count": 5,
   "metadata": {},
   "outputs": [],
   "source": [
    "from scipy import stats\n",
    "from datetime import *"
   ]
  },
  {
   "cell_type": "code",
   "execution_count": 6,
   "metadata": {},
   "outputs": [],
   "source": [
    "join_date = map(lambda x: datetime.strptime(x, '%Y-%m-%d'), mergedRefInfo.sign_up_date)\n",
    "referral_date = map(lambda x: datetime.strptime(x, '%Y-%m-%d'), mergedRefInfo.referral_date)\n",
    "member_days = list( map(lambda x, y: y-x, join_date, referral_date) )\n",
    "member_days = list( map(lambda x: x.days, member_days))\n",
    "mergedRefInfo['member_days'] = member_days"
   ]
  },
  {
   "cell_type": "code",
   "execution_count": 7,
   "metadata": {},
   "outputs": [
    {
     "name": "stdout",
     "output_type": "stream",
     "text": [
      "Mean(statistic=105.03851640513552, minmax=(97.92134661148347, 112.15568619878756)) \n",
      " Variance(statistic=13127.151805239342, minmax=(12014.192341888811, 14325.461515319763)) \n",
      " Std_dev(statistic=114.53275414378449, minmax=(109.60927124056984, 119.68902002823718))\n"
     ]
    }
   ],
   "source": [
    "from scipy.stats import norm\n",
    "dataset= mergedRefInfo.member_days\n",
    "res_mean, res_var, res_std = stats.bayes_mvs(mergedRefInfo.member_days, alpha=0.9)\n",
    "print(res_mean, '\\n', res_var, '\\n', res_std)"
   ]
  },
  {
   "cell_type": "code",
   "execution_count": 10,
   "metadata": {},
   "outputs": [
    {
     "data": {
      "image/png": "[encoded data removed]",
      "text/plain": [
       "<Figure size 1008x432 with 2 Axes>"
      ]
     },
     "metadata": {
      "needs_background": "light"
     },
     "output_type": "display_data"
    }
   ],
   "source": [
    "import matplotlib.pyplot as plt\n",
    "from matplotlib.pyplot import text\n",
    "n_bins = 10\n",
    "\n",
    "fig = plt.figure(figsize=(14, 6))\n",
    "\n",
    "# Histogram of likelihood of a referral given data\n",
    "ax = fig.add_subplot(121)\n",
    "ylim = 0.03\n",
    "\n",
    "lower = res_mean.statistic - res_std.statistic # np.percentile(dataset, 12.5)\n",
    "upper = res_mean.statistic + res_std.statistic \n",
    "\n",
    "ax.hist(dataset, bins=n_bins, density=True, label='Histogram Data with %d bins' %n_bins)\n",
    "ax.vlines(res_mean.statistic, 0, ylim, colors='r', label='Estimated mean')\n",
    "ax.axvspan(lower, upper, facecolor='g',\n",
    "           alpha=0.1, label=r'68% of cases (1SD)')\n",
    "\n",
    "ax.axvspan(res_mean.minmax[0],res_std.minmax[1], facecolor='r',\n",
    "           alpha=0.2, label=r'Estimated mean (90% limits)')\n",
    "ax.grid(True)\n",
    "ax.legend(fontsize=10)\n",
    "ax.set_xlim([-50, mergedRefInfo.member_days.max()])\n",
    "ax.set_ylim([0, ylim])\n",
    "text(res_mean.statistic, 0.01, \"mean =%d\" % res_mean.statistic, verticalalignment='center')\n",
    "text(upper, 0.015, \"upper =%d\" %upper, verticalalignment='center')\n",
    "text(lower, 0.015, \"lower =%d\" %lower, verticalalignment='center')\n",
    "ax.set_title('p(Referral | Days of Membership)')\n",
    "ax.set_xlabel('Days of Membership')\n",
    "ax.set_ylabel('Likelihood of occurrence')\n",
    "\n",
    "\n",
    "# Culmulative Prob Plot\n",
    "ax = fig.add_subplot(122)\n",
    "ax.hist(dataset, n_bins, density=True, histtype='step',\n",
    "                           cumulative=True, label='Empirical')\n",
    "\n",
    "ax.vlines(res_mean.statistic, 0, 1, colors='r', label='Estimated mean')\n",
    "ax.axvspan(res_mean.minmax[0],res_std.minmax[1], facecolor='r',\n",
    "           alpha=0.2, label=r'Estimated mean (90% limits)')\n",
    "\n",
    "ax.grid(True)\n",
    "ax.legend(fontsize=10)\n",
    "ax.legend(loc='right')\n",
    "text(res_mean.statistic, 0.5,  \"mean =%d\" % res_mean.statistic, verticalalignment='center')\n",
    "ax.set_title('Cumulative probability of First Referral')\n",
    "ax.set_xlabel('Days of Membership')\n",
    "ax.set_ylabel('Cumulative probability')\n",
    "\n",
    "plt.show()"
   ]
  },
  {
   "cell_type": "markdown",
   "metadata": {},
   "source": [
    "Conclusion: The distribition is positively skewed with the highest probability density around 0 day.\n",
    "The skew may be caused by both the facts that referrals are most likely during the early days of membership, as well as the fact that most customers are relatively new to Bulb.\n",
    "The trend suggests that the credible intervals of mean days may not be appropriate to decide on when customer refers.\n",
    "Instead, using cumulative probability plot, it is possible to infer an optimal range of days from the desired probabilty that captures most of the referral data (such as >80% of data)."
   ]
  },
  {
   "cell_type": "markdown",
   "metadata": {},
   "source": [
    "\n",
    "# <font color=green> 3.  Q2 analyses:Does the channel members are acquired from significantly impact how they refer? Do you think we need a larger sample size to be sure?</font>"
   ]
  },
  {
   "cell_type": "markdown",
   "metadata": {},
   "source": [
    "## Method 1: Non-parametric stats to compare whether channels significantly impact days-to-referral, among referrers."
   ]
  },
  {
   "cell_type": "code",
   "execution_count": 11,
   "metadata": {},
   "outputs": [
    {
     "data": {
      "text/plain": [
       "Referral                    362\n",
       "Price Comparison Website    181\n",
       "Bulb Website                158\n",
       "Name: sign_up_channel, dtype: int64"
      ]
     },
     "execution_count": 11,
     "metadata": {},
     "output_type": "execute_result"
    }
   ],
   "source": [
    "data = mergedRefInfo\n",
    "data['sign_up_channel'].value_counts()"
   ]
  },
  {
   "cell_type": "code",
   "execution_count": 12,
   "metadata": {},
   "outputs": [
    {
     "name": "stdout",
     "output_type": "stream",
     "text": [
      "KruskalResult(statistic=50.6629733342223, pvalue=9.969540043101382e-12)\n",
      "-------------------------------------------\n",
      " Referral: \n",
      " 75.53314917127072 \n",
      " Price Comp Web: \n",
      " 142.77348066298342 \n",
      " Bulb Web: \n",
      " 129.41139240506328\n"
     ]
    }
   ],
   "source": [
    "Group_A = mergedRefInfo[mergedRefInfo.sign_up_channel == 'Referral']\n",
    "Group_B = mergedRefInfo[mergedRefInfo.sign_up_channel == 'Price Comparison Website']\n",
    "Group_C = mergedRefInfo[mergedRefInfo.sign_up_channel == 'Bulb Website']\n",
    "print(stats.kruskal(Group_A.member_days, Group_B.member_days, Group_C.member_days) )\n",
    "print('-------------------------------------------')\n",
    "print(' Referral: \\n', Group_A.member_days.mean(), '\\n', \n",
    "      'Price Comp Web: \\n', Group_B.member_days.mean(), '\\n', \n",
    "      'Bulb Web: \\n', Group_C.member_days.mean())"
   ]
  },
  {
   "cell_type": "code",
   "execution_count": 13,
   "metadata": {},
   "outputs": [
    {
     "name": "stdout",
     "output_type": "stream",
     "text": [
      "Referral vs. Price Comparison Website\n",
      "MannwhitneyuResult(statistic=21058.5, pvalue=5.573131934944391e-12)\n",
      "------------------------------------------\n",
      "Referral vs. Bulb Website\n",
      "MannwhitneyuResult(statistic=21828.5, pvalue=8.673302547449489e-06)\n",
      "------------------------------------------\n",
      "Price Comparison Website vs. Referral\n",
      "MannwhitneyuResult(statistic=21058.5, pvalue=5.573131934944391e-12)\n",
      "------------------------------------------\n",
      "Price Comparison Website vs. Bulb Website\n",
      "MannwhitneyuResult(statistic=12853.0, pvalue=0.05414819112868531)\n",
      "------------------------------------------\n",
      "Bulb Website vs. Referral\n",
      "MannwhitneyuResult(statistic=21828.5, pvalue=8.673302547449489e-06)\n",
      "------------------------------------------\n",
      "Bulb Website vs. Price Comparison Website\n",
      "MannwhitneyuResult(statistic=12853.0, pvalue=0.05414819112868531)\n",
      "------------------------------------------\n"
     ]
    }
   ],
   "source": [
    "for i in (Group_A, Group_B, Group_C):\n",
    "    for j in (Group_A, Group_B, Group_C):\n",
    "        if i.member_days.values.tolist() == j.member_days.values.tolist():\n",
    "            continue\n",
    "        else:\n",
    "            print('{0} vs. {1}'.format(i.sign_up_channel.iloc[0], j.sign_up_channel.iloc[0]))\n",
    "            print(stats.mannwhitneyu(i.member_days, j.member_days))\n",
    "            print('------------------------------------------')  "
   ]
  },
  {
   "cell_type": "markdown",
   "metadata": {},
   "source": [
    "Conclusion: Sign up channels significantly impacted on the time to the first referral (in days).\n",
    "Referrer customers who signed up through referral channel were significantly quicker in making a referral than referrer customers who signed up through other channels. There were no significant differences in time to the frist referral between Bulb and Price Comparision Websites."
   ]
  },
  {
   "cell_type": "markdown",
   "metadata": {},
   "source": [
    "## Method 2: Understand if channel impacts on whether a customer will become a referrer or not with Naive Bayes Classifier"
   ]
  },
  {
   "cell_type": "code",
   "execution_count": 14,
   "metadata": {},
   "outputs": [
    {
     "name": "stderr",
     "output_type": "stream",
     "text": [
      "/Users/annapeng/anaconda3/lib/python3.7/site-packages/pandas/core/indexing.py:205: SettingWithCopyWarning: \n",
      "A value is trying to be set on a copy of a slice from a DataFrame\n",
      "\n",
      "See the caveats in the documentation: http://pandas.pydata.org/pandas-docs/stable/user_guide/indexing.html#returning-a-view-versus-a-copy\n",
      "  self._setitem_with_indexer(indexer, value)\n"
     ]
    }
   ],
   "source": [
    "from sklearn.naive_bayes import CategoricalNB\n",
    "clf = CategoricalNB()\n",
    "CustomerInfo['sign_up_value']=0*len(CustomerInfo)\n",
    "CustomerInfo.sign_up_value.loc[CustomerInfo.sign_up_channel == 'Referral'] = 1\n",
    "CustomerInfo.sign_up_value.loc[CustomerInfo.sign_up_channel == 'Price Comparison Website'] = 2\n",
    "CustomerInfo.sign_up_value.loc[CustomerInfo.sign_up_channel == 'Bulb Website'] = 3"
   ]
  },
  {
   "cell_type": "code",
   "execution_count": 15,
   "metadata": {},
   "outputs": [
    {
     "name": "stdout",
     "output_type": "stream",
     "text": [
      "\n",
      "    Probability of channel, given the the person is a non-referrer:\n",
      "    Referral: 20.40%, Price Comparison Website: 60.05%, Bulb Website: 19.56% \n",
      "\n",
      "    Probability of channel, given the the person is a referrer:\n",
      "    Referral: 51.57%, Price Comparison Website: 25.88%, Bulb Website: 22.54%\n"
     ]
    }
   ],
   "source": [
    "data = CustomerInfo.Referrer\n",
    "data = data.to_numpy().reshape(-1,1)\n",
    "clf.fit(data, CustomerInfo.sign_up_value)\n",
    "pChannel_given_Ref = clf.predict_proba([[0], [1]])*100\n",
    "print('''\n",
    "    Probability of channel, given the the person is a non-referrer:\n",
    "    Referral: {0:.2f}%, Price Comparison Website: {1:.2f}%, Bulb Website: {2:.2f}% \\n\n",
    "    Probability of channel, given the the person is a referrer:\n",
    "    Referral: {3:.2f}%, Price Comparison Website: {4:.2f}%, Bulb Website: {5:.2f}%'''.format(\n",
    "    pChannel_given_Ref[0,0], pChannel_given_Ref[0,1],pChannel_given_Ref[0,2],\n",
    "    pChannel_given_Ref[1,0], pChannel_given_Ref[1,1],pChannel_given_Ref[1,2]))"
   ]
  },
  {
   "cell_type": "markdown",
   "metadata": {},
   "source": [
    "Conclusion: Given the customer is a non-referrer, the customer is most likely to have signed up through Price Comparison Website. \n",
    "\n",
    "Given the customer is a referrer, the customer is most likely to have signed up through referral themselves."
   ]
  },
  {
   "cell_type": "markdown",
   "metadata": {},
   "source": [
    "# <font color = green> 4. Q3 We can send an email to members to invite them to refer their friends. We can choose when, and to whom, we send the emails. How would you suggest we proceed? </font>"
   ]
  },
  {
   "cell_type": "markdown",
   "metadata": {},
   "source": [
    "From the descriptive statistics we know that \n",
    "1. Most referrals happened before 219 days since the sign-up, with a mean around 105 days. \n",
    "2. Referrals are heavily skewed towards the early days of membership\n",
    "3. Referrers who signed up through referral channel were quickiest in making referrals.\n",
    "4. Referrer customers most likely have signed up through referral channel themselves. \n",
    "    \n",
    "Taken as a whole, I would suggest to focus on sending invitation emails to members who signed up through referral channel, from the time when they signed up, to around 100 to 200 days. However the duration of the email campaign is only suggestive from the point of descriptive stats. Due to the large number of new customers, it appears that most first referrals skewed towards early days of membership, and may not reflect an established pattern among the established customers. \n",
    "\n",
    "At this stage, it may be more important to focus on the question of whom the invitation should be sent to, rather than the question of when to send it to.\n",
    "\n",
    "Future analyses and data are needed to establish whether referrers make multiple referrals throughout the membership, at what interval, and what the clustering effect among the referrer networks look like.\n",
    "    "
   ]
  },
  {
   "cell_type": "markdown",
   "metadata": {},
   "source": [
    "# <font color = green> Additional Analyses: </font>\n",
    "# Sample Size analyses "
   ]
  },
  {
   "cell_type": "code",
   "execution_count": 51,
   "metadata": {},
   "outputs": [],
   "source": [
    "mergedRefInfo['sign_up_value'] = \"\"*len(mergedRefInfo)\n",
    "mergedRefInfo.sign_up_value.loc[mergedRefInfo.sign_up_channel == 'Referral']  =1\n",
    "mergedRefInfo.sign_up_value.loc[mergedRefInfo.sign_up_channel == 'Price Comparison Website']  =2\n",
    "mergedRefInfo.sign_up_value.loc[mergedRefInfo.sign_up_channel == 'Bulb Website']  =3\n",
    "\n",
    "GroupA = mergedRefInfo[mergedRefInfo.sign_up_value==1]\n",
    "GroupB = mergedRefInfo[mergedRefInfo.sign_up_value ==2]\n",
    "GroupC = mergedRefInfo[mergedRefInfo.sign_up_value ==3]\n",
    "\n",
    "p_values = []\n",
    "for n in range(1,len(GroupA)):\n",
    "    p_values.append(stats.kruskal(GroupA.member_days.iloc[0:n], GroupB.member_days.iloc[0:n], GroupC.member_days.iloc[0:n])[1]) \n",
    "\n",
    "\n"
   ]
  },
  {
   "cell_type": "code",
   "execution_count": 60,
   "metadata": {},
   "outputs": [
    {
     "data": {
      "image/png": "[encoded data removed]",
      "text/plain": [
       "<Figure size 432x216 with 1 Axes>"
      ]
     },
     "metadata": {
      "needs_background": "light"
     },
     "output_type": "display_data"
    }
   ],
   "source": [
    "fig = plt.figure(figsize=(6, 3))\n",
    "\n",
    "# Histogram of likelihood of a referral given data\n",
    "ax = fig.add_subplot(111)\n",
    "ax.plot(p_values, label = 'Data')\n",
    "ax.hlines(0.05, 0, len(p_values), colors='r', label='alpha = 0.05')\n",
    "ax.set_ylabel('p values')\n",
    "ax.set_xlabel('Sample Size')\n",
    "ax.set_title('p-value change by sample size')\n",
    "ax.legend(fontsize=10)\n",
    "ax.legend(loc='right')\n",
    "plt.show()"
   ]
  },
  {
   "cell_type": "code",
   "execution_count": null,
   "metadata": {},
   "outputs": [],
   "source": []
  }
 ],
 "metadata": {
  "kernelspec": {
   "display_name": "Python 3",
   "language": "python",
   "name": "python3"
  },
  "language_info": {
   "codemirror_mode": {
    "name": "ipython",
    "version": 3
   },
   "file_extension": ".py",
   "mimetype": "text/x-python",
   "name": "python",
   "nbconvert_exporter": "python",
   "pygments_lexer": "ipython3",
   "version": "3.7.4"
  }
 },
 "nbformat": 4,
 "nbformat_minor": 2
}
